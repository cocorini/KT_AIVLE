{
  "nbformat": 4,
  "nbformat_minor": 0,
  "metadata": {
    "colab": {
      "provenance": [],
      "authorship_tag": "ABX9TyOXoxTTTITfRCkMLrlfqVk0",
      "include_colab_link": true
    },
    "kernelspec": {
      "name": "python3",
      "display_name": "Python 3"
    },
    "language_info": {
      "name": "python"
    }
  },
  "cells": [
    {
      "cell_type": "markdown",
      "metadata": {
        "id": "view-in-github",
        "colab_type": "text"
      },
      "source": [
        "<a href=\"https://colab.research.google.com/github/cocorini/KT_AIVLE/blob/main/6%EC%B0%A8_%EB%AF%B8%ED%94%84_by_KoBERT.ipynb\" target=\"_parent\"><img src=\"https://colab.research.google.com/assets/colab-badge.svg\" alt=\"Open In Colab\"/></a>"
      ]
    },
    {
      "cell_type": "markdown",
      "source": [
        "### KoBERT 관련 모듈 호출"
      ],
      "metadata": {
        "id": "S6C4F2-tHR0S"
      }
    },
    {
      "cell_type": "code",
      "source": [
        "!pip install mxnet\n",
        "!pip install gluonnlp pandas tqdm\n",
        "!pip install sentencepiece\n",
        "!pip install transformers\n",
        "!pip install torch"
      ],
      "metadata": {
        "id": "XzFv65sb0WN8"
      },
      "execution_count": null,
      "outputs": []
    },
    {
      "cell_type": "code",
      "source": [
        "#깃허브에서 KoBERT 파일 로드\n",
        "!pip install 'git+https://github.com/SKTBrain/KoBERT.git#egg=kobert_tokenizer&subdirectory=kobert_hf'"
      ],
      "metadata": {
        "colab": {
          "base_uri": "https://localhost:8080/"
        },
        "id": "sC9KG4Mu2Tfb",
        "outputId": "491add2e-6bb2-4d19-b6e9-a4da1b7fc1ff"
      },
      "execution_count": null,
      "outputs": [
        {
          "output_type": "stream",
          "name": "stdout",
          "text": [
            "Collecting kobert_tokenizer\n",
            "  Cloning https://github.com/SKTBrain/KoBERT.git to /tmp/pip-install-0wrfi003/kobert-tokenizer_a5962048114e4b95ab6d416776809217\n",
            "  Running command git clone --filter=blob:none --quiet https://github.com/SKTBrain/KoBERT.git /tmp/pip-install-0wrfi003/kobert-tokenizer_a5962048114e4b95ab6d416776809217\n",
            "  Resolved https://github.com/SKTBrain/KoBERT.git to commit 47a69af87928fc24e20f571fe10c3cc9dd9af9a3\n",
            "  Preparing metadata (setup.py) ... \u001b[?25l\u001b[?25hdone\n",
            "Building wheels for collected packages: kobert_tokenizer\n",
            "  Building wheel for kobert_tokenizer (setup.py) ... \u001b[?25l\u001b[?25hdone\n",
            "  Created wheel for kobert_tokenizer: filename=kobert_tokenizer-0.1-py3-none-any.whl size=4633 sha256=110eea47e2e1a3309eebe04130031c9c86ec9c134438fe4560407f3a4e374adf\n",
            "  Stored in directory: /tmp/pip-ephem-wheel-cache-gjee5xxx/wheels/e9/1a/3f/a864970e8a169c176befa3c4a1e07aa612f69195907a4045fe\n",
            "Successfully built kobert_tokenizer\n",
            "Installing collected packages: kobert_tokenizer\n",
            "Successfully installed kobert_tokenizer-0.1\n"
          ]
        }
      ]
    },
    {
      "cell_type": "code",
      "source": [
        "import torch\n",
        "import random\n",
        "from torch import nn\n",
        "import torch.nn.functional as F\n",
        "import torch.optim as optim\n",
        "from torch.utils.data import Dataset, DataLoader\n",
        "import gluonnlp as nlp\n",
        "import numpy as np\n",
        "from tqdm import tqdm, tqdm_notebook\n",
        "\n",
        "# ★ Hugging Face를 통한 모델 및 토크나이저 Import\n",
        "from kobert_tokenizer import KoBERTTokenizer\n",
        "from transformers import BertModel\n",
        "\n",
        "from transformers import AdamW\n",
        "from transformers.optimization import get_cosine_schedule_with_warmup"
      ],
      "metadata": {
        "id": "_2MmgyTF0kLN"
      },
      "execution_count": null,
      "outputs": []
    },
    {
      "cell_type": "markdown",
      "metadata": {
        "id": "Uc_kIeeJeDgi"
      },
      "source": [
        "* 구글 드라이브 연결"
      ]
    },
    {
      "cell_type": "code",
      "execution_count": null,
      "metadata": {
        "colab": {
          "base_uri": "https://localhost:8080/"
        },
        "id": "dd0SPbYdfhS9",
        "outputId": "2d111cd6-69b8-469c-c6d8-9cb8c49d237f"
      },
      "outputs": [
        {
          "output_type": "stream",
          "name": "stdout",
          "text": [
            "Mounted at /content/drive\n"
          ]
        }
      ],
      "source": [
        "from google.colab import drive\n",
        "drive.mount('/content/drive')"
      ]
    },
    {
      "cell_type": "code",
      "execution_count": null,
      "metadata": {
        "id": "y5OIDazoeIN4"
      },
      "outputs": [],
      "source": [
        "#ex : path = '/content/drive/MyDrive/project/'\n",
        "path = '/content/drive/MyDrive/2023.10.30_미니프로젝트6차_실습자료 및 데이터/데이터'"
      ]
    },
    {
      "cell_type": "markdown",
      "metadata": {
        "id": "GH3ApIzofYPb"
      },
      "source": [
        "저장된 데이터 읽어오기\n",
        "* 저장된 .pkl 파일들을 불러옵니다.\n",
        "* 불러 온 후에는 shape를 확인해 봅시다."
      ]
    },
    {
      "cell_type": "code",
      "execution_count": null,
      "metadata": {
        "id": "FT_JFnclfcQ4"
      },
      "outputs": [],
      "source": [
        "train = joblib.load(os.path.join(path, 'train.pkl'))\n",
        "test = joblib.load(os.path.join(path, 'test.pkl'))\n",
        "\n",
        "# okt로 질문을 형태소 분석한 결과가 데이터 프레임에 담긴 상태\n",
        "clean_train = joblib.load(os.path.join(path, 'clean_train.pkl'))\n",
        "clean_test = joblib.load(os.path.join(path, 'clean_test.pkl'))"
      ]
    },
    {
      "cell_type": "markdown",
      "source": [
        "### KoBERT"
      ],
      "metadata": {
        "id": "t7jHSh7ey_oL"
      }
    },
    {
      "cell_type": "markdown",
      "source": [
        "* 형식에 맞게 전처리하기\n",
        "    - input 데이터의 형식 : ['text', 'label'] 형식으로 들어가야함.\n",
        "\n",
        "사실 label 이 str형으로만 해야하는지는 확신이 없다."
      ],
      "metadata": {
        "id": "M-4KHh77HYqj"
      }
    },
    {
      "cell_type": "code",
      "source": [
        "train.intent = train.intent-1\n",
        "test.intent = test.intent-1"
      ],
      "metadata": {
        "id": "kF_icurh_XCt"
      },
      "execution_count": null,
      "outputs": []
    },
    {
      "cell_type": "code",
      "source": [
        "train_data = []\n",
        "test_data = []\n",
        "for q, label in zip(train['Q'], train['intent']) :\n",
        "    data = []\n",
        "    data.append(q)\n",
        "    data.append(str(label))\n",
        "\n",
        "    train_data.append(data)\n",
        "\n",
        "for q, label in zip(test['Q'], test['intent']) :\n",
        "    data = []\n",
        "    data.append(q)\n",
        "    data.append(str(label))\n",
        "\n",
        "    test_data.append(data)"
      ],
      "metadata": {
        "id": "K0szeZ5szTgM"
      },
      "execution_count": null,
      "outputs": []
    },
    {
      "cell_type": "code",
      "source": [
        "#GPU 사용\n",
        "device = torch.device(\"cuda:0\")\n",
        "\n",
        "# # CPU 사용\n",
        "# device = torch.device(\"cpu\")\n",
        "\n",
        "#BERT 모델, Vocabulary 불러오기\n",
        "tokenizer = KoBERTTokenizer.from_pretrained('skt/kobert-base-v1')\n",
        "bertmodel = BertModel.from_pretrained('skt/kobert-base-v1', return_dict=False)\n",
        "vocab = nlp.vocab.BERTVocab.from_sentencepiece(tokenizer.vocab_file, padding_token='[PAD]')"
      ],
      "metadata": {
        "colab": {
          "base_uri": "https://localhost:8080/",
          "height": 232,
          "referenced_widgets": [
            "13d555b6792a4a58874d23ce894c9596",
            "9523cda28e45490cbaa634468ff5d7b3",
            "f1d1a450c2224ec2ae70ebdc47c9b8d6",
            "971acee7258343018cdc447986f6ced1",
            "4a47c07ae566403f891e71ebb253d8b9",
            "a66a6af5833749e68eb90e643f3f7854",
            "d24a15e0050a445182e7bbbe4a3e693a",
            "7c9dbf8653e44e55839d921dc65e8b5d",
            "59fe22b3a9e94fd89cbce29c17a38205",
            "a346c341ebb24d6ab6a0f656c016d331",
            "9c8b5fb51e164a3a86a441d24bf145e8",
            "5c53214de4264445b8a34caf817d1ad2",
            "1e756bb11b78494a807b3e6189d2e958",
            "f2118d4ee2ef4cbb9f89c5f555df3e52",
            "7d118ca75bc54f888d822825911945e9",
            "897dc9be2f1c401581e299f01f3606c6",
            "250f92d5ea6641b2a2f2574382ce4495",
            "1c14224e48d04ce09c3e8ca8988c4df1",
            "fc7458411ee9461d8e31cea3bdf23068",
            "30a09743cbb94752823eef1eadd7a406",
            "0b842fde99c6436cb0e8fc3e5f8bb951",
            "39db5f8a981b4d8f9f8bf01321a26bc0",
            "a238fb1254fb4d50a729f8d3057cfadb",
            "a9b42f5e81d24111b927de2c941fe339",
            "d7d02135eefd483d8fef7e7328c7995c",
            "6d96a3a25baa47cdb93db966496cf7dd",
            "c5140083db284a65ae98113f7a4a1d4b",
            "1591227826954244b52b5dc72d235f36",
            "76bedf01099d424098182f3a23a06fd3",
            "be709a2478fe4ea396ed7967c47cf27d",
            "d0910ba55b0b429683e63bdfbe433b2b",
            "a1be188c22714fdba903a608458ba031",
            "963608d145d04f2abc62162a2968f23e",
            "d2106f3ccd1f4c9f8889f7684f7d5483",
            "41f9adbca161435aa2ec5da5bf612c08",
            "44c7c5e70d1148019310fdeeb7737079",
            "e75ef61fb31f454c9927dbd98975d9bb",
            "8982669115bc4c03844e0a220ceaadac",
            "6e1fa252b9524590b72b6b0579bb4c2f",
            "686015a0b79c414c8ef5ce16c87e3398",
            "ddcb0ba4c64d4ed281cc2e05d2b50ee0",
            "ac25b59f04224d3c9aa0bfca3244328a",
            "173b5e59f11d472f95a39d68ff316ae9",
            "fdde6744970341f38a27c1c9d785367f",
            "aed77ce440ad41ccb87e912b2fbfa5ed",
            "d8d7a768e7c9462a8b107e7fb771104b",
            "ff01edc84bb846e1b8b9065bfc7157ea",
            "112553a539644982b173e0835617525b",
            "bc3ef3f9ffcb4d708f58aa7ce553d7ae",
            "df30db8535304e6ca6591c8423f9f852",
            "778208afc1e8435b9e9827b8a7ec5f79",
            "f3a24f3b11e548f6a74e779b076708d4",
            "ed15475de9524368b6b4a923bbaad71e",
            "c70a577f97e64809929ad8ff30e27912",
            "224cc90db31b4157b1670284ffe072f0"
          ]
        },
        "id": "dQSf0rwg60rE",
        "outputId": "87ae060f-9cae-40da-c5e7-ecc8378bcfd2"
      },
      "execution_count": null,
      "outputs": [
        {
          "output_type": "display_data",
          "data": {
            "text/plain": [
              "Downloading (…)okenizer_config.json:   0%|          | 0.00/432 [00:00<?, ?B/s]"
            ],
            "application/vnd.jupyter.widget-view+json": {
              "version_major": 2,
              "version_minor": 0,
              "model_id": "13d555b6792a4a58874d23ce894c9596"
            }
          },
          "metadata": {}
        },
        {
          "output_type": "display_data",
          "data": {
            "text/plain": [
              "Downloading (…)ve/main/spiece.model:   0%|          | 0.00/371k [00:00<?, ?B/s]"
            ],
            "application/vnd.jupyter.widget-view+json": {
              "version_major": 2,
              "version_minor": 0,
              "model_id": "5c53214de4264445b8a34caf817d1ad2"
            }
          },
          "metadata": {}
        },
        {
          "output_type": "display_data",
          "data": {
            "text/plain": [
              "Downloading (…)cial_tokens_map.json:   0%|          | 0.00/244 [00:00<?, ?B/s]"
            ],
            "application/vnd.jupyter.widget-view+json": {
              "version_major": 2,
              "version_minor": 0,
              "model_id": "a238fb1254fb4d50a729f8d3057cfadb"
            }
          },
          "metadata": {}
        },
        {
          "output_type": "stream",
          "name": "stderr",
          "text": [
            "The tokenizer class you load from this checkpoint is not the same type as the class this function is called from. It may result in unexpected tokenization. \n",
            "The tokenizer class you load from this checkpoint is 'XLNetTokenizer'. \n",
            "The class this function is called from is 'KoBERTTokenizer'.\n"
          ]
        },
        {
          "output_type": "display_data",
          "data": {
            "text/plain": [
              "Downloading (…)lve/main/config.json:   0%|          | 0.00/535 [00:00<?, ?B/s]"
            ],
            "application/vnd.jupyter.widget-view+json": {
              "version_major": 2,
              "version_minor": 0,
              "model_id": "d2106f3ccd1f4c9f8889f7684f7d5483"
            }
          },
          "metadata": {}
        },
        {
          "output_type": "display_data",
          "data": {
            "text/plain": [
              "Downloading pytorch_model.bin:   0%|          | 0.00/369M [00:00<?, ?B/s]"
            ],
            "application/vnd.jupyter.widget-view+json": {
              "version_major": 2,
              "version_minor": 0,
              "model_id": "aed77ce440ad41ccb87e912b2fbfa5ed"
            }
          },
          "metadata": {}
        }
      ]
    },
    {
      "cell_type": "code",
      "source": [
        "class BERTDataset(Dataset):\n",
        "    def __init__(self, dataset, sent_idx, label_idx, bert_tokenizer, vocab, max_len,\n",
        "                 pad, pair):\n",
        "        transform = nlp.data.BERTSentenceTransform(\n",
        "            bert_tokenizer, max_seq_length=max_len, vocab=vocab, pad=pad, pair=pair)\n",
        "\n",
        "        self.sentences = [transform([i[sent_idx]]) for i in dataset]\n",
        "        self.labels = [np.int32(i[label_idx]) for i in dataset]\n",
        "\n",
        "    def __getitem__(self, i):\n",
        "        return (self.sentences[i] + (self.labels[i], ))\n",
        "\n",
        "    def __len__(self):\n",
        "        return (len(self.labels))"
      ],
      "metadata": {
        "id": "7XLoXp16zsQk"
      },
      "execution_count": null,
      "outputs": []
    },
    {
      "cell_type": "code",
      "source": [
        "# Setting parameters\n",
        "max_len = 64\n",
        "batch_size = 64\n",
        "warmup_ratio = 0.1\n",
        "num_epochs = 35\n",
        "max_grad_norm = 1\n",
        "log_interval = 200\n",
        "learning_rate =  5e-5"
      ],
      "metadata": {
        "id": "6G6dvWgG428T"
      },
      "execution_count": null,
      "outputs": []
    },
    {
      "cell_type": "code",
      "source": [
        "tok = tokenizer.tokenize\n",
        "\n",
        "data_train = BERTDataset(train_data, 0, 1, tok, vocab, max_len, True, False)\n",
        "data_test = BERTDataset(test_data, 0, 1, tok, vocab, max_len, True, False)"
      ],
      "metadata": {
        "id": "sqdpfT13443L"
      },
      "execution_count": null,
      "outputs": []
    },
    {
      "cell_type": "code",
      "source": [
        "train_dataloader = torch.utils.data.DataLoader(data_train, batch_size=batch_size, num_workers=5)\n",
        "test_dataloader = torch.utils.data.DataLoader(data_test, batch_size=batch_size, num_workers=5)"
      ],
      "metadata": {
        "colab": {
          "base_uri": "https://localhost:8080/"
        },
        "id": "IBFK0Boi5FwV",
        "outputId": "342e2ea9-6cb9-4d4d-eebe-aac606907617"
      },
      "execution_count": null,
      "outputs": [
        {
          "output_type": "stream",
          "name": "stderr",
          "text": [
            "/usr/local/lib/python3.10/dist-packages/torch/utils/data/dataloader.py:557: UserWarning: This DataLoader will create 5 worker processes in total. Our suggested max number of worker in current system is 2, which is smaller than what this DataLoader is going to create. Please be aware that excessive worker creation might get DataLoader running slow or even freeze, lower the worker number to avoid potential slowness/freeze if necessary.\n",
            "  warnings.warn(_create_warning_msg(\n"
          ]
        }
      ]
    },
    {
      "cell_type": "code",
      "source": [
        "class BERTClassifier(nn.Module):\n",
        "    def __init__(self,\n",
        "                 bert,\n",
        "                 hidden_size = 768,\n",
        "                 num_classes=53,\n",
        "                 dr_rate=None,\n",
        "                 params=None):\n",
        "        super(BERTClassifier, self).__init__()\n",
        "        self.bert = bert\n",
        "        self.dr_rate = dr_rate\n",
        "\n",
        "        self.classifier = nn.Linear(hidden_size , num_classes)\n",
        "        if dr_rate:\n",
        "            self.dropout = nn.Dropout(p=dr_rate)\n",
        "\n",
        "    def gen_attention_mask(self, token_ids, valid_length):\n",
        "        attention_mask = torch.zeros_like(token_ids)\n",
        "        for i, v in enumerate(valid_length):\n",
        "            attention_mask[i][:v] = 1\n",
        "        return attention_mask.float()\n",
        "\n",
        "    def forward(self, token_ids, valid_length, segment_ids):\n",
        "        attention_mask = self.gen_attention_mask(token_ids, valid_length)\n",
        "\n",
        "        _, pooler = self.bert(input_ids = token_ids, token_type_ids = segment_ids.long(), attention_mask = attention_mask.float().to(token_ids.device))\n",
        "        if self.dr_rate:\n",
        "            out = self.dropout(pooler)\n",
        "        return self.classifier(out)"
      ],
      "metadata": {
        "id": "kYNIrQAy5KGe"
      },
      "execution_count": null,
      "outputs": []
    },
    {
      "cell_type": "code",
      "source": [
        "KoBERT = BERTClassifier(bertmodel,  dr_rate=0.5).to(device)"
      ],
      "metadata": {
        "id": "hqVErw7W5dsU"
      },
      "execution_count": null,
      "outputs": []
    },
    {
      "cell_type": "code",
      "source": [
        "no_decay = ['bias', 'LayerNorm.weight']\n",
        "optimizer_grouped_parameters = [\n",
        "    {'params': [p for n, p in KoBERT.named_parameters() if not any(nd in n for nd in no_decay)], 'weight_decay': 0.01},\n",
        "    {'params': [p for n, p in KoBERT.named_parameters() if any(nd in n for nd in no_decay)], 'weight_decay': 0.0}\n",
        "]\n",
        "optimizer = AdamW(optimizer_grouped_parameters, lr=learning_rate)\n",
        "loss_fn = nn.CrossEntropyLoss()\n",
        "\n",
        "t_total = len(train_dataloader) * num_epochs\n",
        "warmup_step = int(t_total * warmup_ratio)\n",
        "\n",
        "scheduler = get_cosine_schedule_with_warmup(optimizer, num_warmup_steps=warmup_step, num_training_steps=t_total)\n",
        "def calc_accuracy(X,Y):\n",
        "    max_vals, max_indices = torch.max(X, 1)\n",
        "    train_acc = (max_indices == Y).sum().data.cpu().numpy()/max_indices.size()[0]\n",
        "    return train_acc"
      ],
      "metadata": {
        "colab": {
          "base_uri": "https://localhost:8080/"
        },
        "id": "eVCmM0rW5zLc",
        "outputId": "4898ad7e-cf6a-4d88-ed3d-ac8fec6860bd"
      },
      "execution_count": null,
      "outputs": [
        {
          "output_type": "stream",
          "name": "stderr",
          "text": [
            "/usr/local/lib/python3.10/dist-packages/transformers/optimization.py:411: FutureWarning: This implementation of AdamW is deprecated and will be removed in a future version. Use the PyTorch implementation torch.optim.AdamW instead, or set `no_deprecation_warning=True` to disable this warning\n",
            "  warnings.warn(\n"
          ]
        }
      ]
    },
    {
      "cell_type": "code",
      "source": [
        "for e in range(num_epochs):\n",
        "    train_acc = 0.0\n",
        "    test_acc = 0.0\n",
        "    KoBERT.train()\n",
        "    for batch_id, (token_ids, valid_length, segment_ids, label) in enumerate(tqdm_notebook(train_dataloader)):\n",
        "        optimizer.zero_grad()\n",
        "        token_ids = token_ids.long().to(device)\n",
        "        segment_ids = segment_ids.long().to(device)\n",
        "        valid_length= valid_length\n",
        "        label = label.long().to(device)\n",
        "        out = KoBERT(token_ids, valid_length, segment_ids)\n",
        "        loss = loss_fn(out, label)\n",
        "        loss.backward()\n",
        "        torch.nn.utils.clip_grad_norm_(KoBERT.parameters(), max_grad_norm)\n",
        "        optimizer.step()\n",
        "        scheduler.step()  # Update learning rate schedule\n",
        "        train_acc += calc_accuracy(out, label)\n",
        "        if batch_id % log_interval == 0:\n",
        "            print(\"epoch {} batch id {} loss {} train acc {}\".format(e+1, batch_id+1, loss.data.cpu().numpy(), train_acc / (batch_id+1)))\n",
        "    print(\"epoch {} train acc {}\".format(e+1, train_acc / (batch_id+1)))\n",
        "    KoBERT.eval()\n",
        "    for batch_id, (token_ids, valid_length, segment_ids, label) in enumerate(tqdm_notebook(test_dataloader)):\n",
        "        token_ids = token_ids.long().to(device)\n",
        "        segment_ids = segment_ids.long().to(device)\n",
        "        valid_length= valid_length\n",
        "        label = label.long().to(device)\n",
        "        out = KoBERT(token_ids, valid_length, segment_ids)\n",
        "        test_acc += calc_accuracy(out, label)\n",
        "    print(\"epoch {} test acc {}\".format(e+1, test_acc / (batch_id+1)))"
      ],
      "metadata": {
        "colab": {
          "base_uri": "https://localhost:8080/",
          "height": 374,
          "referenced_widgets": [
            "d12875523b6e44d8871f30848ad2d605",
            "32b5485171a7481d82f1fcafd3b77415",
            "e266bd7405234fd88d8b7ac6abcc856f",
            "723bf9bc237d4c61b5c3691b8673cd33",
            "5a475aaa1ba54b1a9451601ede4660a0",
            "5928aa28b89b4de3b69d20f81ebd044b",
            "620aec409c76460b873b7947220e585f",
            "b054cba870244dc49bb6c823dd838e2d",
            "9e3812c9aa3942e5abc6e027a82136a0",
            "1f79960bc55b459f9abe529b43178c79",
            "3c13ade2cc6743afb385daa94b68a37a",
            "12e76fa7fb9e4179a8d2009cabcb8c27",
            "32bce1e497e2484f8a55e6996560b1a4",
            "8232ecc1a306423ca2b8519f9bea2ab5",
            "2df4cfc44ac64d9795a058fcd52b08d9",
            "778fb7340b054b98bdbe754f3f26f899",
            "992492151a574796a2df78a898a73cfd",
            "df276009c77e41889353fd3b5b9d061a",
            "e8c69b1dcabc4df18473fb5fc4294938",
            "0f7d59aeef2e4c4dac5286e96e635c1f",
            "cf87ba136ddb48cb9dd9eb9f2884baf8",
            "7e05b4dd259243709ce4146532215150",
            "35fc7c98573444a7a3f9c8937a809e1c",
            "e8eea929887544a5954d86ef37a5c276",
            "d9453c0baac041e1bf136f441bbe591a",
            "1647686fa9644890bff403071c0dcb42",
            "b8033dfd1dd84096876becf8cc42b802",
            "0700da67fd50424b8a56c5e4cec448d3",
            "a71ca8cf89f343e3bf170d324c1aaaaa",
            "1162b94110e34c5a8b768d1c474ecc6c",
            "c519b52ada974084b714e19ca182c3eb",
            "a04b4f33ef284e3c8b553a164eb02f67",
            "144aed1d115047d9b5fd4e73e0d1d052",
            "1b9de085bb8a416db50b96d195d79a92",
            "9d98f212654d4551a0faaac342a40ceb",
            "e80c875cc8c44441892436e2f5af70d9",
            "cb2653d588c34bbfbef9707821495541",
            "a0b27759c2a549e6a3436f95d6db71bc",
            "0210391c41c045d2a56ca1e1e81eb0ee",
            "ef73385bb22b485287713cf091597aef",
            "23ca923e7b4c40febfc44f2f4f2e90f7",
            "ffa0986ff1b44f25b5981f2c7fed3945",
            "f2524bba797644549c35c26fc03c150a",
            "eff7926a201f44e3b2ed56f890288823",
            "0205a9556bf748bb96c4dd7546525a5b",
            "7bd811983a9b4cfa967c4ca4be69549c",
            "2b5bfb2d39354fd3aa593ef6ef2ac616",
            "d22bfe585121478db8d1a44783d856ec",
            "f3b5676cd02247cc87364e53a379ae35",
            "3916d58200b6464ca9c5f5341efdbe38",
            "7a29b41e06ef471e8dbb95f3e5e2f201",
            "5bfb5ce4e7c74cbc9364f662a987d7fe",
            "ff644309bdf749bc97239ce81373f096",
            "9f3d7dc702834f26a848344dcb21b817",
            "f082819b525443029c3ed41d6736da3a",
            "92b5b78405e14724bbdb560d595340ef",
            "cef63cc88824433e9be7f4da3f25c943",
            "c0e69fa8959a44b0b1e85902e98cf933",
            "0e21d867ca88485eabd88a36ebae56a0",
            "2d423121c5a6472bbf017ee88308afa0",
            "0d2285ab2d8e45f885fcb48947b40e74",
            "0159da18a8284163b75cccdc91742e26",
            "566f6ee9480640fb9c0171a18af44e6f",
            "ec608334a1bd4309a279ea16b8b483b8",
            "f65ba2e2b19d429b93199028adae05a9",
            "fa854f8da6fe46cfb86698f1fb94f0ba"
          ]
        },
        "id": "CCEIZPxs7AmV",
        "outputId": "a861ca33-c22c-460c-9304-c5320c64efca"
      },
      "execution_count": null,
      "outputs": [
        {
          "output_type": "display_data",
          "data": {
            "text/plain": [
              "  0%|          | 0/19 [00:00<?, ?it/s]"
            ],
            "application/vnd.jupyter.widget-view+json": {
              "version_major": 2,
              "version_minor": 0,
              "model_id": "d12875523b6e44d8871f30848ad2d605"
            }
          },
          "metadata": {}
        },
        {
          "output_type": "stream",
          "name": "stdout",
          "text": [
            "epoch 1 batch id 1 loss 1.1815905570983887 train acc 0.953125\n",
            "epoch 1 train acc 0.9819078947368421\n"
          ]
        },
        {
          "output_type": "display_data",
          "data": {
            "text/plain": [
              "  0%|          | 0/2 [00:00<?, ?it/s]"
            ],
            "application/vnd.jupyter.widget-view+json": {
              "version_major": 2,
              "version_minor": 0,
              "model_id": "12e76fa7fb9e4179a8d2009cabcb8c27"
            }
          },
          "metadata": {}
        },
        {
          "output_type": "stream",
          "name": "stdout",
          "text": [
            "epoch 1 test acc 0.8318452380952381\n"
          ]
        },
        {
          "output_type": "display_data",
          "data": {
            "text/plain": [
              "  0%|          | 0/19 [00:00<?, ?it/s]"
            ],
            "application/vnd.jupyter.widget-view+json": {
              "version_major": 2,
              "version_minor": 0,
              "model_id": "35fc7c98573444a7a3f9c8937a809e1c"
            }
          },
          "metadata": {}
        },
        {
          "output_type": "stream",
          "name": "stdout",
          "text": [
            "epoch 2 batch id 1 loss 1.1959789991378784 train acc 0.96875\n",
            "epoch 2 train acc 0.9827302631578947\n"
          ]
        },
        {
          "output_type": "display_data",
          "data": {
            "text/plain": [
              "  0%|          | 0/2 [00:00<?, ?it/s]"
            ],
            "application/vnd.jupyter.widget-view+json": {
              "version_major": 2,
              "version_minor": 0,
              "model_id": "1b9de085bb8a416db50b96d195d79a92"
            }
          },
          "metadata": {}
        },
        {
          "output_type": "stream",
          "name": "stdout",
          "text": [
            "epoch 2 test acc 0.8199404761904762\n"
          ]
        },
        {
          "output_type": "display_data",
          "data": {
            "text/plain": [
              "  0%|          | 0/19 [00:00<?, ?it/s]"
            ],
            "application/vnd.jupyter.widget-view+json": {
              "version_major": 2,
              "version_minor": 0,
              "model_id": "0205a9556bf748bb96c4dd7546525a5b"
            }
          },
          "metadata": {}
        },
        {
          "output_type": "stream",
          "name": "stdout",
          "text": [
            "epoch 3 batch id 1 loss 1.1271358728408813 train acc 0.96875\n",
            "epoch 3 train acc 0.9893092105263158\n"
          ]
        },
        {
          "output_type": "display_data",
          "data": {
            "text/plain": [
              "  0%|          | 0/2 [00:00<?, ?it/s]"
            ],
            "application/vnd.jupyter.widget-view+json": {
              "version_major": 2,
              "version_minor": 0,
              "model_id": "92b5b78405e14724bbdb560d595340ef"
            }
          },
          "metadata": {}
        },
        {
          "output_type": "stream",
          "name": "stdout",
          "text": [
            "epoch 3 test acc 0.8318452380952381\n"
          ]
        }
      ]
    },
    {
      "cell_type": "code",
      "source": [
        "test_acc = 0.0\n",
        "KoBERT.eval()\n",
        "for batch_id, (token_ids, valid_length, segment_ids, label) in enumerate(tqdm_notebook(test_dataloader)):\n",
        "    token_ids = token_ids.long().to(device)\n",
        "    segment_ids = segment_ids.long().to(device)\n",
        "    valid_length= valid_length\n",
        "    label = label.long().to(device)\n",
        "    out = KoBERT(token_ids, valid_length, segment_ids)\n",
        "    test_acc += calc_accuracy(out, label)\n",
        "print(\"epoch {} test acc {}\".format(1, test_acc / (batch_id+1)))"
      ],
      "metadata": {
        "colab": {
          "base_uri": "https://localhost:8080/",
          "height": 67,
          "referenced_widgets": [
            "c5d5f75aaf3249e982fdebb43267167c",
            "68faae210d2748a294f732e1d976b4b6",
            "bd227461fb114d37a28d72e54a8fac9b",
            "2c0be3f26a234553a9d6440adac3fcfe",
            "4d0ef8d2516745a1a3d43c42b66f2201",
            "d6c806cd63814f89a7964b6cd77bb3d9",
            "381c9314c9424adea2a4c0db33dd6944",
            "14a09187ce7e4c739633b37fea95d8a1",
            "e7785f2f0a49435f8938091902086d28",
            "d80eb8faea93408f8d0957c8ea006878",
            "d3077762ea4b4a66abbf294706fde0f1"
          ]
        },
        "id": "MtO1bxqS5ycs",
        "outputId": "9840b7fc-0ac9-4aa2-b564-1a9c6d3a5a5b"
      },
      "execution_count": null,
      "outputs": [
        {
          "output_type": "display_data",
          "data": {
            "text/plain": [
              "  0%|          | 0/2 [00:00<?, ?it/s]"
            ],
            "application/vnd.jupyter.widget-view+json": {
              "version_major": 2,
              "version_minor": 0,
              "model_id": "c5d5f75aaf3249e982fdebb43267167c"
            }
          },
          "metadata": {}
        },
        {
          "output_type": "stream",
          "name": "stdout",
          "text": [
            "epoch 1 test acc 0.8318452380952381\n"
          ]
        }
      ]
    },
    {
      "cell_type": "code",
      "source": [
        "def predict(predict_sentence): # input = 감정분류하고자 하는 sentence\n",
        "\n",
        "    data = [predict_sentence, '0']\n",
        "    dataset_another = [data]\n",
        "\n",
        "    another_test = BERTDataset(dataset_another, 0, 1, tok, vocab, max_len, True, False) # 토큰화한 문장\n",
        "    test_dataloader = torch.utils.data.DataLoader(another_test, batch_size = batch_size, num_workers = 5) # torch 형식 변환\n",
        "\n",
        "    KoBERT.eval()\n",
        "\n",
        "    for batch_id, (token_ids, valid_length, segment_ids, label) in enumerate(test_dataloader):\n",
        "        token_ids = token_ids.long().to(device)\n",
        "        segment_ids = segment_ids.long().to(device)\n",
        "\n",
        "        valid_length = valid_length\n",
        "        label = label.long().to(device)\n",
        "\n",
        "        out = KoBERT(token_ids, valid_length, segment_ids)\n",
        "\n",
        "        for i in out:\n",
        "            logits = i\n",
        "            logits = logits.detach().cpu().numpy()\n",
        "            intent = np.argmax(logits)\n",
        "            ans = random.choice(train.loc[train['intent']==intent, 'A'].unique())\n",
        "\n",
        "        print(ans)\n",
        "\n",
        "    return intent"
      ],
      "metadata": {
        "id": "yR9r6pLYO5yj"
      },
      "execution_count": null,
      "outputs": []
    },
    {
      "cell_type": "markdown",
      "metadata": {
        "id": "l4eV11r6d99i"
      },
      "source": [
        "* 모델 저장하기 & 불러오기"
      ]
    },
    {
      "cell_type": "code",
      "execution_count": null,
      "metadata": {
        "id": "po3WLHCCqaki",
        "colab": {
          "base_uri": "https://localhost:8080/"
        },
        "outputId": "52e330b0-4a5c-4915-91c5-613f1dd7b720"
      },
      "outputs": [
        {
          "output_type": "execute_result",
          "data": {
            "text/plain": [
              "['kobert.pkl']"
            ]
          },
          "metadata": {},
          "execution_count": 44
        }
      ],
      "source": [
        "#학습된 KOBERT 모델 kobert로 저장하기\n",
        "joblib.dump(KoBERT, 'kobert.pkl')"
      ]
    },
    {
      "cell_type": "code",
      "source": [
        "#학습된 KOBERT모델 불러오기\n",
        "KoBERT = joblib.load('/content/drive/MyDrive/2023.10.30_미니프로젝트6차_실습자료 및 데이터/데이터/kobert.pkl')"
      ],
      "metadata": {
        "id": "R8jTI0FqX_bO"
      },
      "execution_count": null,
      "outputs": []
    },
    {
      "cell_type": "markdown",
      "source": [
        "* 챗봇 구축"
      ],
      "metadata": {
        "id": "jwREE5pnG5HL"
      }
    },
    {
      "cell_type": "code",
      "execution_count": null,
      "metadata": {
        "id": "t1O90gcPPpvM"
      },
      "outputs": [],
      "source": [
        "input = '아직 대학 졸업예정인데, 지원 가능한가요?'"
      ]
    },
    {
      "cell_type": "code",
      "execution_count": null,
      "metadata": {
        "id": "ZDfzmPeGT3Om",
        "colab": {
          "base_uri": "https://localhost:8080/"
        },
        "outputId": "c115fbc4-3515-4bc3-b525-54da5081540b"
      },
      "outputs": [
        {
          "output_type": "stream",
          "name": "stdout",
          "text": [
            "KT 에이블스쿨은 정규 4년제 대학 졸업자 및 졸업예정자 중 만 34세 이하 미취업자를 대상으로 하는 교육입니다.\n",
            "단, 모집시점에 만 35세여도 해당연도 1월 1일 이후 생일자는 지원이 가능합니다.\n",
            "또한 전공의 종류와는 무관 합니다.\n"
          ]
        }
      ],
      "source": [
        "# 분류 모델을 이용하여 intent 예측\n",
        "predict(input)"
      ]
    },
    {
      "cell_type": "code",
      "source": [
        "input2 = '비전공자도 가능한가요?'\n",
        "predict(input2)"
      ],
      "metadata": {
        "colab": {
          "base_uri": "https://localhost:8080/"
        },
        "id": "tm1JszYsRaqS",
        "outputId": "310c943c-866b-4022-8754-1f740880d72d"
      },
      "execution_count": null,
      "outputs": [
        {
          "output_type": "stream",
          "name": "stdout",
          "text": [
            "비전공자도 SW개발에 관심과 열정이 있으신 분들은 충분히 따라 갈 수 있습니다. 이 경우 데이터 사이언스 기반으로 산업 현장에 AI를 접목하고 DX를 이끄는 DX컨설턴트 Track을 추천 드립니다. SW기초 지식 및 코딩역량을 보유하고 있고 개발자로 성장하고 싶은 분께는 AI개발자 Track을 추천 드립니다. 파이썬 프로그래밍 사용법과 AI 개념에 대한 기초 이해를 공부하고 오시면 도움이 되실 것 같습니다.\n"
          ]
        }
      ]
    },
    {
      "cell_type": "code",
      "execution_count": null,
      "metadata": {
        "id": "Fof6Zb0UUArm",
        "colab": {
          "base_uri": "https://localhost:8080/"
        },
        "outputId": "d1fe5986-daba-4677-ca8c-2c38593effd1"
      },
      "outputs": [
        {
          "output_type": "stream",
          "name": "stdout",
          "text": [
            "힘들겠어요.\n"
          ]
        }
      ],
      "source": [
        "input3 = '배고프다'\n",
        "predict(input3)"
      ]
    },
    {
      "cell_type": "code",
      "execution_count": null,
      "metadata": {
        "id": "o6YSzGDe3n0M"
      },
      "outputs": [],
      "source": [
        "def get_answer1(question):\n",
        "    intent = predict(question)\n",
        "    return"
      ]
    },
    {
      "cell_type": "code",
      "execution_count": null,
      "metadata": {
        "id": "oUi-QgPD4HnP",
        "colab": {
          "base_uri": "https://localhost:8080/"
        },
        "outputId": "8058bea7-b59c-4e12-b78b-aabaf967af9d"
      },
      "outputs": [
        {
          "output_type": "stream",
          "name": "stderr",
          "text": [
            "/usr/local/lib/python3.10/dist-packages/torch/utils/data/dataloader.py:557: UserWarning: This DataLoader will create 5 worker processes in total. Our suggested max number of worker in current system is 2, which is smaller than what this DataLoader is going to create. Please be aware that excessive worker creation might get DataLoader running slow or even freeze, lower the worker number to avoid potential slowness/freeze if necessary.\n",
            "  warnings.warn(_create_warning_msg(\n"
          ]
        },
        {
          "output_type": "stream",
          "name": "stdout",
          "text": [
            "교육 등록신청을 하지 않거나 교육 일정 시작 전에 교육 등록을 취소해도 지원자격에 해당하는 경우 다시 지원이 가능합니다.\n",
            "다만, 교육 과정 확정자신고일(교육시작일로부터 7일)이 지난 후 중도 퇴교를 할 경우 과정을 수강한 것으로 간주되며, 향후 K-Digital Training (K-DT) 과정에 재지원은 가능하나 무료 수강은 어렵습니다.\n"
          ]
        },
        {
          "output_type": "execute_result",
          "data": {
            "text/plain": [
              "33"
            ]
          },
          "metadata": {},
          "execution_count": 105
        }
      ],
      "source": [
        "get_answer1('교육 듣다가 중도포기 가능한가요?')"
      ]
    },
    {
      "cell_type": "code",
      "execution_count": null,
      "metadata": {
        "id": "B8nXCSHX92HI",
        "colab": {
          "base_uri": "https://localhost:8080/"
        },
        "outputId": "3b920f33-4069-46a9-e1d3-adacb49ab411"
      },
      "outputs": [
        {
          "output_type": "stream",
          "name": "stdout",
          "text": [
            "질문: 노트북이 작동이 안되네 \n",
            "대답: as 맡기세요.\n",
            "\n",
            "질문: 핸드폰 맛이 갔어 \n",
            "대답: 교육기간 동안 노트북을 무료로 지원하며, 교육에 필요한 필수 프로그램이 설치되어 있으므로, 제공한 노트북을 사용해 주시기 바랍니다.\n",
            "\n",
            "원활한 실습 환경을 위해 아래 명시된 사양 이상을 갖춘 노트북을 제공합니다. \n",
            "- CPU : I5 / RAM : 8GB / 여유저장공간 : 40GB\n",
            "\n",
            "질문: 내 의지는 상관없나봐 \n",
            "대답: KT 에이블스쿨은 정규 4년제 대학 졸업자 및 졸업예정자 중 만 34세 이하 미취업자를 대상으로 하는 교육입니다.\n",
            "단, 모집시점에 만 35세여도 해당연도 1월 1일 이후 생일자는 지원이 가능합니다.\n",
            "또한 전공의 종류와는 무관 합니다.\n",
            "\n",
            "질문: 올해 취업하길 \n",
            "대답: 가장 중요한 거예요.\n",
            "\n",
            "질문: 추워죽겠다 \n",
            "대답: 감기 조심하세요.\n",
            "\n",
            "질문: 바람 많이 부네 \n",
            "대답: 감기 조심하세요.\n",
            "\n",
            "질문: 나들이를 가볼까 \n",
            "대답: 같이 가보세요.\n",
            "\n",
            "질문: 바다 가자고 하면 갈까? \n",
            "대답: 같이 가자고 말해보세요\n",
            "\n",
            "질문: mmm \n",
            "대답: 교육기간 동안 노트북을 무료로 지원하며, 교육에 필요한 필수 프로그램이 설치되어 있으므로, 제공한 노트북을 사용해 주시기 바랍니다.\n",
            "\n",
            "원활한 실습 환경을 위해 아래 명시된 사양 이상을 갖춘 노트북을 제공합니다. \n",
            "- CPU : I5 / RAM : 8GB / 여유저장공간 : 40GB\n",
            "\n",
            "질문: 불면증 온 거 같아. \n",
            "대답: 고민이 많은가 봐요.\n",
            "\n",
            "질문: 공부 시작해도 될까 \n",
            "대답: 공부가 최우선이죠.\n",
            "\n",
            "질문: 새로운 공부 시작해도 될까 \n",
            "대답: 공부는 끝이 없죠.\n",
            "\n",
            "질문: 친구가 내 뒷담 깠어 \n",
            "대답: 너무 신경쓰지마세요.\n",
            "\n",
            "질문: 나를 친구로 생각 안했나봐 \n",
            "대답: 그런 친구 말고 제대로 된 친구 사귀세요.\n",
            "\n",
            "질문: 단발로 자를까 \n",
            "대답: 힘들겠네요.\n",
            "\n",
            "질문: 계속 열심히 공부하는데 집중이 잘 안되네 \n",
            "대답: 비전공자도 SW개발에 관심과 열정이 있으신 분들은 충분히 따라 갈 수 있습니다.  \n",
            "이 경우 데이터 사이언스 기반으로 산업 현장에 AI를 접목하고 DX를 이끄는 DX컨설턴트 Track을 추천 드립니다.  \n",
            "SW기초 지식 및 코딩역량을 보유하고 있고 개발자로 성장하고 싶은 분께는 AI개발자 Track을 추천 드립니다. \n",
            "\n",
            "파이썬 프로그래밍 사용법과 AI 개념에 대한 기초 이해를 공부하고 오시면 도움이 되실 것 같습니다.\n",
            "\n",
            "질문: 우울증 있어 \n",
            "대답: 너무 신경 곤두세우지 마세요.\n",
            "\n",
            "질문: 우울증 생겼어 \n",
            "대답: 힘들겠어요.\n",
            "\n",
            "질문: 새 집 가기로 했어 \n",
            "대답: 내 집 마련 축하드려요.\n",
            "\n",
            "질문: 진짜 내 집이 생겼어 \n",
            "대답: 내 집 마련 축하드려요.\n",
            "\n",
            "질문: 저녁 메뉴 뭐 먹을까 \n",
            "대답: 맛있는 거 드세요.\n",
            "\n",
            "질문: 점심 메뉴 뭐 먹을까 \n",
            "대답: 맛있게 드세요.\n",
            "\n",
            "질문: 왜 말을 못해 말을 못하냐구 \n",
            "대답: 노력하고 있어요.\n",
            "\n",
            "질문: 대답 잘하니 \n",
            "대답: 노력하고 있는 중입니다.\n",
            "\n",
            "질문: 나란 놈 \n",
            "대답: 제가 있잖아요.\n",
            "\n",
            "질문: 방탈출 게임 했어 \n",
            "대답: 다 잘 될 거예요.\n",
            "\n",
            "질문: 일 좀 하고 다시 말시킬게 \n",
            "대답: 많이 지쳤나봐요.\n",
            "\n",
            "질문: 학교 갔다 올게 \n",
            "대답: 다녀오세요!\n",
            "\n",
            "질문: 차 너무 막혀 \n",
            "대답: 여유가 생기길 바랍니다.\n",
            "\n",
            "질문: 차 유지비가 너무 많이 들어 \n",
            "대답: 대중교통을 이용해 보세요.\n",
            "\n",
            "질문: 연예인 걱정이 제일 쓸데 없어 \n",
            "대답: 너무 무리하면 지쳐요.\n",
            "\n",
            "질문: 쓸데 없는 걱정 1위 연예인 걱정 \n",
            "대답: 너무 신경쓰지 말고 그러든지 하고 아무렇지도 않게 넘겨보세요.\n",
            "\n",
            "질문: 별 보러 시골 가고 싶다 \n",
            "대답: 로맨틱하네요.\n",
            "\n",
            "질문: 자장가 불러 달랬더니 불러줬어 \n",
            "대답: 로맨틱해요.\n",
            "\n",
            "질문: 먼지 싫다 \n",
            "대답: 마스크 쓰고 다니세요.\n",
            "\n",
            "질문: 공기가 뿌얘 \n",
            "대답: 마스크 쓰세요.\n",
            "\n",
            "질문: 소개팅 할까? \n",
            "대답: 성공하길 바랍니다.\n",
            "\n",
            "질문: 부모님이 선 보래 \n",
            "대답: 많이 만나보세요.\n",
            "\n",
            "질문: 간장치킨 시켜야지 \n",
            "대답: 맛있는 거 드세요.\n",
            "\n",
            "질문: 참외 맛있다. \n",
            "대답: 맛있는거 드세요.\n",
            "\n",
            "질문: 문콕당했어 \n",
            "대답: 조심하세요.\n",
            "\n",
            "질문: 불 날 뻔 \n",
            "대답: 보험처리 하세요.\n",
            "\n",
            "질문: 속 더부룩 해 \n",
            "대답: 직장 스트레스 심하겠네요.\n",
            "\n",
            "질문: 소화시켜야 하는데 움직이기가 싫어 \n",
            "대답: 소화제 드세요.\n",
            "\n",
            "질문: 숙취 너무 심해 \n",
            "대답: 술 안 마셔도 놀 수 있어요.\n",
            "\n",
            "질문: 술 먹고 카드 긁었어 \n",
            "대답: 술 안 마셔도 놀 수 있어요.\n",
            "\n",
            "질문: 이 좀 여유롭게 살고 싶다 \n",
            "대답: 여유가 생기길 바랍니다.\n",
            "\n",
            "질문: 퇴근길 아닌데 차 엄청 막혀 \n",
            "대답: 여유를 가지세요.\n",
            "\n",
            "질문: 엄마 생각난다 \n",
            "대답: 연락 드려 보세요.\n",
            "\n",
            "질문: 불효자는 웁니다. \n",
            "대답: 연락이라도 드려보세요.\n",
            "\n",
            "질문: 퇴근 후에 만나자고 해볼까 \n",
            "대답: 용기를 내세요.\n",
            "\n",
            "질문: 퇴근하고 만나자고 말해볼까 \n",
            "대답: 용기를 내보세요!\n",
            "\n",
            "질문: 공연보러 가고 싶어 \n",
            "대답: 같이 가자고 말해보세요\n",
            "\n",
            "질문: 해외여행 가고싶다! \n",
            "대답: 저도요.\n",
            "\n",
            "질문: 심심한데 뭐 재미있는거 없을까 \n",
            "대답: 제가 있잖아요.\n",
            "\n",
            "질문: 공부하기 싫어 \n",
            "대답: 많이 피곤한가봐요.\n",
            "\n",
            "질문: 이사했으니까 집들이 해야겠다 \n",
            "대답: 내 집 마련 축하드려요.\n",
            "\n",
            "질문: 부모님께 용돈 좀 드려야지 \n",
            "대답: 축하드려요\n",
            "\n",
            "질문: 상 받을 거 같아 \n",
            "대답: 축하드려요!\n",
            "\n",
            "질문: 선물 받았어 \n",
            "대답: 기분이 좋아 보이네요.\n",
            "\n",
            "질문: 미성년자도 지원 가능한가요? \n",
            "대답: KT 에이블스쿨은 정규 4년제 대학 졸업자 및 졸업예정자 중 만 34세 이하 미취업자를 대상으로 하는 교육입니다.\n",
            "단, 모집시점에 만 35세여도 해당연도 1월 1일 이후 생일자는 지원이 가능합니다.\n",
            "또한 전공의 종류와는 무관 합니다.\n",
            "\n",
            "질문: 지원 조건이 있나요? \n",
            "대답: KT 에이블스쿨은 정규 4년제 대학 졸업자 및 졸업예정자 중 만 34세 이하 미취업자를 대상으로 하는 교육입니다.\n",
            "단, 모집시점에 만 35세여도 해당연도 1월 1일 이후 생일자는 지원이 가능합니다.\n",
            "또한 전공의 종류와는 무관 합니다.\n",
            "\n",
            "질문: 계약직인 경우도 지원가능한가요? \n",
            "대답: KT 에이블스쿨은 미취업자를 대상으로 하며, 교육 시작일 기준 재직자는 지원이 불가능합니다.\n",
            "미취업자의 기준은 아래와 같습니다.\n",
            "1) 기간의 정함이 있는 근로인 경우\n",
            "2) 고용보험에 미가입한 경우\n",
            "3) 고용보험에 가입되어 있더라도 15시간/주 미만 근로인 경우\n",
            "단, 어떠한 경우에도 교육을 풀타임(09:00~18:00)으로 들을 수 있어야 교육 참여가 가능합니다. \n",
            "\n",
            "프리랜서 계약의 경우, 고용보험에 가입하지 않은 경우 미취업자로 보지만, 개인별 상황이 다를 수 있어서 관할 고용센터에 문의하여 확인하시기 바랍니다. \n",
            "또한 현재 군 복무 중인 상태여도 지원 가능하며, 교육 시작 전일까지 병역 의무를 마쳐야 교육 수강이 가능합니다. \n",
            "\n",
            "퇴사 후 고용보험 상실이 완료되어 실업급여를 수급 중인 경우, 훈련 수강에는 문제가 없습니다.\n",
            "다만, 실업급여와 훈련장려금은 중복 수급이 불가하여 실업급여 지급이 종료된 후 훈련장려금 지급이 개시됩니다.\n",
            "\n",
            "질문: 사업자나 자영업자도 지원할 수 있나요? \n",
            "대답: KT 에이블스쿨은 미취업자를 대상으로 하며, 교육 시작일 기준 재직자는 지원이 불가능합니다.\n",
            "미취업자의 기준은 아래와 같습니다.\n",
            "1) 기간의 정함이 있는 근로인 경우\n",
            "2) 고용보험에 미가입한 경우\n",
            "3) 고용보험에 가입되어 있더라도 15시간/주 미만 근로인 경우\n",
            "단, 어떠한 경우에도 교육을 풀타임(09:00~18:00)으로 들을 수 있어야 교육 참여가 가능합니다. \n",
            "\n",
            "프리랜서 계약의 경우, 고용보험에 가입하지 않은 경우 미취업자로 보지만, 개인별 상황이 다를 수 있어서 관할 고용센터에 문의하여 확인하시기 바랍니다. \n",
            "또한 현재 군 복무 중인 상태여도 지원 가능하며, 교육 시작 전일까지 병역 의무를 마쳐야 교육 수강이 가능합니다. \n",
            "\n",
            "퇴사 후 고용보험 상실이 완료되어 실업급여를 수급 중인 경우, 훈련 수강에는 문제가 없습니다.\n",
            "다만, 실업급여와 훈련장려금은 중복 수급이 불가하여 실업급여 지급이 종료된 후 훈련장려금 지급이 개시됩니다.\n",
            "\n",
            "질문: 불합격자가 재지원하는 경우, 기존 지원서와 차이가 있어야 할까요? \n",
            "대답: 지원자격에 해당되는 경우 다시 지원이 가능합니다.\n",
            "\n",
            "질문: 불합격한 경우에도 재지원이 가능한가요? \n",
            "대답: 지원자격에 해당되는 경우 다시 지원이 가능합니다.\n",
            "\n",
            "질문: 합격 후 교육 등록신청을 하지 않으면 재지원이 가능한가요? \n",
            "대답: 교육 등록신청을 하지 않거나 교육 일정 시작 전에 교육 등록을 취소해도 지원자격에 해당하는 경우 다시 지원이 가능합니다.\n",
            "다만, 교육 과정 확정자신고일(교육시작일로부터 7일)이 지난 후 중도 퇴교를 할 경우 과정을 수강한 것으로 간주되며, 향후 K-Digital Training (K-DT) 과정에 재지원은 가능하나 무료 수강은 어렵습니다.\n",
            "\n",
            "질문: 교육시작후 7일 이내에 중도포기하면 재지원 할 수 있나요? \n",
            "대답: 교육 등록신청을 하지 않거나 교육 일정 시작 전에 교육 등록을 취소해도 지원자격에 해당하는 경우 다시 지원이 가능합니다.\n",
            "다만, 교육 과정 확정자신고일(교육시작일로부터 7일)이 지난 후 중도 퇴교를 할 경우 과정을 수강한 것으로 간주되며, 향후 K-Digital Training (K-DT) 과정에 재지원은 가능하나 무료 수강은 어렵습니다.\n",
            "\n",
            "질문: 추가합격도 존재하나요? \n",
            "대답: 현재 KT 에이블스쿨은 추가합격 제도를 운영하고 있지 않습니다.\n",
            "향후 추가합격을 운영하는 경우, 사전에 공지할 예정입니다.\n",
            "\n",
            "질문: 추가합격제도가 존재하는지 궁금합니다. \n",
            "대답: 현재 KT 에이블스쿨은 추가합격 제도를 운영하고 있지 않습니다.\n",
            "향후 추가합격을 운영하는 경우, 사전에 공지할 예정입니다.\n",
            "\n",
            "질문: 면접에서 자주 묻는 질문은 어떤 것들이 있나요? \n",
            "대답: KT 에이블스쿨은 별도의 면접 과정이 없습니다\n",
            "\n",
            "질문: 비대면면접이 있나요? \n",
            "대답: 교육 과정 중 STEP1과 STEP2는 대부분 비대면 교육으로 진행하며, 일부 프로젝트는 대면으로 진행될 수 있습니다. STEP3 프로젝트 수행기간에는 대면 & 비대면을 병행하여 진행합니다. (단, 코로나 정부방역지침에 따라 변경될 수 있습니다.)\n",
            "\n",
            "질문: 코딩테스트에서 자주 출제되는 알고리즘 문제 유형은 어떤 것이 있나요? \n",
            "대답: 코딩테스트는 AI개발자 Track 지원자를 대상으로 진행되며, 사용 가능한 프로그래밍 언어는 C, C++, JAVA, Python, JavaScript 5가지입니다.\n",
            "자세한 내용은 서류전형 합격자 대상으로 안내드릴 예정입니다.\n",
            "\n",
            "질문: 코딩테스트 진행과정에 대해 궁금합니다. \n",
            "대답: 코딩테스트는 AI개발자 Track 지원자를 대상으로 진행되며, 사용 가능한 프로그래밍 언어는 C, C++, JAVA, Python, JavaScript 5가지입니다.\n",
            "자세한 내용은 서류전형 합격자 대상으로 안내드릴 예정입니다.\n",
            "\n",
            "질문: 인적성검사가 KT와 동일한가요? \n",
            "대답: 현재 KT 에이블스쿨은 KT 채용 인적성검사와 같은 과목의 인적성검사를 운영하고 있습니다.\n",
            "\n",
            "질문: 인적성검사가 KT인적성검사와 동일한가요? \n",
            "대답: 현재 KT 에이블스쿨은 KT 채용 인적성검사와 같은 과목의 인적성검사를 운영하고 있습니다.\n",
            "\n",
            "질문: 휴학 중 졸업증명서가 발급이 안되면 지원할 수 없나요? \n",
            "대답: 학교 사정으로 졸업예정증명서 발급이 불가능한 경우 수료증명서 또는 재학증명서를 제출하여 주시기 바라며, 추후 졸업예정증명서 발급 가능 시점에 제출 요청을 드릴 수 있습니다.\n",
            "대학원 재학 중으로 성적증명서가 없으신 경우, 최종학력은 대학교로 입력하여 주시고 졸업(예정)증명서 및 성적증명서 제출란에는 재학증명서를 제출하여 주시기 바랍니다.\n",
            "국외 대학의 경우, 졸업을 확인할 수 있는 서류인 공식 졸업장(예: Diploma)과, 4년간의 이수 과목과 성적을 확인할 수 있는 성적표(예: Transcript)를 제출하시면 됩니다.\n",
            "\n",
            "질문: 졸업증명서가 발급이 안되는 경우 어떻게 해야 하나요? \n",
            "대답: 학교 사정으로 졸업예정증명서 발급이 불가능한 경우 수료증명서 또는 재학증명서를 제출하여 주시기 바라며, 추후 졸업예정증명서 발급 가능 시점에 제출 요청을 드릴 수 있습니다.\n",
            "대학원 재학 중으로 성적증명서가 없으신 경우, 최종학력은 대학교로 입력하여 주시고 졸업(예정)증명서 및 성적증명서 제출란에는 재학증명서를 제출하여 주시기 바랍니다.\n",
            "국외 대학의 경우, 졸업을 확인할 수 있는 서류인 공식 졸업장(예: Diploma)과, 4년간의 이수 과목과 성적을 확인할 수 있는 성적표(예: Transcript)를 제출하시면 됩니다.\n",
            "\n",
            "질문: 전공자가 아니여도 괜찮나요? \n",
            "대답: 비전공자도 SW개발에 관심과 열정이 있으신 분들은 충분히 따라 갈 수 있습니다.  \n",
            "이 경우 데이터 사이언스 기반으로 산업 현장에 AI를 접목하고 DX를 이끄는 DX컨설턴트 Track을 추천 드립니다.  \n",
            "SW기초 지식 및 코딩역량을 보유하고 있고 개발자로 성장하고 싶은 분께는 AI개발자 Track을 추천 드립니다. \n",
            "\n",
            "파이썬 프로그래밍 사용법과 AI 개념에 대한 기초 이해를 공부하고 오시면 도움이 되실 것 같습니다.\n",
            "\n",
            "질문: 전공지식이 없는데 괜찮나요? \n",
            "대답: 비전공자도 SW개발에 관심과 열정이 있으신 분들은 충분히 따라 갈 수 있습니다.  \n",
            "이 경우 데이터 사이언스 기반으로 산업 현장에 AI를 접목하고 DX를 이끄는 DX컨설턴트 Track을 추천 드립니다.  \n",
            "SW기초 지식 및 코딩역량을 보유하고 있고 개발자로 성장하고 싶은 분께는 AI개발자 Track을 추천 드립니다. \n",
            "\n",
            "파이썬 프로그래밍 사용법과 AI 개념에 대한 기초 이해를 공부하고 오시면 도움이 되실 것 같습니다.\n",
            "\n",
            "질문: 평일에 개인 사정이 생긴 경우에 증빙 서류를 내면 쉴 수 있나요? \n",
            "대답: 단위기간(훈련시작일로부터 1개월) 내 80% 이상 출석해야 훈련수강 유지가 가능합니다. \n",
            "예를 들어, 훈련시작일로부터 1개월을 기준으로 1개월간의 훈련일수가 20일이라고 가정할 경우 16일 이상 출석하셔야 훈련수강을 계속 유지할 수 있습니다. \n",
            "결석 기준은 1. 당일 소정훈련시간의 50퍼센트 미만을 수강한 경우, 2. 지각, 조퇴 3회 누적 시, 결석 처리 됩니다. \n",
            "훈련 수준 유지를 위해 100% 출석을 권고 드립니다. \n",
            "\n",
            "K-Digital Training (K-DT) 규정상 월 1회 휴가 사용이 가능합니다.\n",
            "\n",
            "질문: 출석률 기준이 궁금합니다. \n",
            "대답: 단위기간(훈련시작일로부터 1개월) 내 80% 이상 출석해야 훈련수강 유지가 가능합니다. \n",
            "예를 들어, 훈련시작일로부터 1개월을 기준으로 1개월간의 훈련일수가 20일이라고 가정할 경우 16일 이상 출석하셔야 훈련수강을 계속 유지할 수 있습니다. \n",
            "결석 기준은 1. 당일 소정훈련시간의 50퍼센트 미만을 수강한 경우, 2. 지각, 조퇴 3회 누적 시, 결석 처리 됩니다. \n",
            "훈련 수준 유지를 위해 100% 출석을 권고 드립니다. \n",
            "\n",
            "K-Digital Training (K-DT) 규정상 월 1회 휴가 사용이 가능합니다.\n",
            "\n",
            "질문: 출석률이 낮은 경우에도 교육을 수료할 수 있나요? \n",
            "대답: KT 에이블스쿨은 고용노동부 K-Digital Training 사업으로 운영됨에 따라 총 훈련일수의 80% 이상을 출석한 경우 수료대상이 됩니다.\n",
            "반대로, 총 훈련일수의 20%를 초과하여 결석한 경우 제적대상이 됩니다.\n",
            "\n",
            "질문: 교육 수료는 어떻게 하나요? \n",
            "대답: KT 에이블스쿨은 고용노동부 K-Digital Training 사업으로 운영됨에 따라 총 훈련일수의 80% 이상을 출석한 경우 수료대상이 됩니다.\n",
            "반대로, 총 훈련일수의 20%를 초과하여 결석한 경우 제적대상이 됩니다.\n",
            "\n",
            "질문: 서류 마감 이후에 교육 장소를 변경할 수 있나요? \n",
            "대답: KT 에이블스쿨은 전국 어디서나 참여할 수 있도록, 온/오프라인을 병행하여 탄력적으로 운영합니다.\n",
            "오프라인 교육장소는 6개 권역(수도권, 강원권, 부산/경남권, 대구/경북권, 충남/충북권, 전남/전북권)에 위치하고 있습니다. \n",
            "\n",
            "서류 접수 마감 이후에 지원 지역(교육 장소) 변경은 불가능하며, 최종 합격된 지역에서만 교육이 가능합니다.\n",
            "\n",
            "질문: 교육 장소가 있는 지역이 궁금합니다. \n",
            "대답: KT 에이블스쿨은 전국 어디서나 참여할 수 있도록, 온/오프라인을 병행하여 탄력적으로 운영합니다.\n",
            "오프라인 교육장소는 6개 권역(수도권, 강원권, 부산/경남권, 대구/경북권, 충남/충북권, 전남/전북권)에 위치하고 있습니다. \n",
            "\n",
            "서류 접수 마감 이후에 지원 지역(교육 장소) 변경은 불가능하며, 최종 합격된 지역에서만 교육이 가능합니다.\n",
            "\n",
            "질문: 코로나가 안끝나도 대면으로 진행되나요? \n",
            "대답: 교육 과정 중 STEP1과 STEP2는 대부분 비대면 교육으로 진행하며, 일부 프로젝트는 대면으로 진행될 수 있습니다. STEP3 프로젝트 수행기간에는 대면 & 비대면을 병행하여 진행합니다. (단, 코로나 정부방역지침에 따라 변경될 수 있습니다.)\n",
            "\n",
            "질문: 온라인, 오프라인 과정을 병행하나요? \n",
            "대답: 교육 과정 중 STEP1과 STEP2는 대부분 비대면 교육으로 진행하며, 일부 프로젝트는 대면으로 진행될 수 있습니다. STEP3 프로젝트 수행기간에는 대면 & 비대면을 병행하여 진행합니다. (단, 코로나 정부방역지침에 따라 변경될 수 있습니다.)\n",
            "\n",
            "질문: 비대면 교육은 자유롭게 들을 수 있나요? \n",
            "대답: KT 에이블스쿨은 풀타임(09:00~18:00)으로 교육이 진행되며, 정해진 시간에 필수로 참여해야 합니다. \n",
            "교육에 풀타임으로 참여할 수 있어야 교육 수강이 가능합니다.\n",
            "\n",
            "질문: 교육 수강 중인데, 병행 교육으로 인해 출석률이 부족해지면 어떻게 되나요? \n",
            "대답: KT 에이블스쿨은 풀타임(09:00~18:00)으로 교육이 진행되며, 정해진 시간에 필수로 참여해야 합니다. \n",
            "교육에 풀타임으로 참여할 수 있어야 교육 수강이 가능합니다.\n",
            "\n",
            "질문: 교육 수강, 실습 모두 노트북으로 진행해야 하나요? \n",
            "대답: 교육기간 동안 노트북을 무료로 지원하며, 교육에 필요한 필수 프로그램이 설치되어 있으므로, 제공한 노트북을 사용해 주시기 바랍니다.\n",
            "\n",
            "원활한 실습 환경을 위해 아래 명시된 사양 이상을 갖춘 노트북을 제공합니다. \n",
            "- CPU : I5 / RAM : 8GB / 여유저장공간 : 40GB\n",
            "\n",
            "질문: 교육 기간 동안 노트북을 무료로 대여해주나요? \n",
            "대답: 교육기간 동안 노트북을 무료로 지원하며, 교육에 필요한 필수 프로그램이 설치되어 있으므로, 제공한 노트북을 사용해 주시기 바랍니다.\n",
            "\n",
            "원활한 실습 환경을 위해 아래 명시된 사양 이상을 갖춘 노트북을 제공합니다. \n",
            "- CPU : I5 / RAM : 8GB / 여유저장공간 : 40GB\n",
            "\n",
            "질문: 교과목 종료 시 테스트가 있나요? \n",
            "대답: KT 에이블스쿨은 자기주도적인 학습을 장려하고 있으며, 교과목 종료 시 셀프테스트를 통한 역량 점검이 진행 됩니다.\n",
            "\n",
            "질문: 교육기간 동안의 테스트 및 시험에서는 어떤 종류의 문제가 출제되나요? \n",
            "대답: KT 에이블스쿨은 자기주도적인 학습을 장려하고 있으며, 교과목 종료 시 셀프테스트를 통한 역량 점검이 진행 됩니다.\n",
            "\n",
            "질문: 졸업이 미뤄졌는데 교육에 계속 참여 가능한가요? \n",
            "대답: 교육수강은 가능합니다. 다만 교육수료와 함께 이루어지는 채용 연계 시 참가한 기업에서 졸업자가 아니므로 채용하지 않을 수 있습니다. \n",
            "해당 시점 채용공고에서 각 기업 별 내용을 직접 확인해야합니다.\n",
            "\n",
            "질문: 졸업이 미뤄졌는데 채용연계가 가능한가요? \n",
            "대답: 교육수강은 가능합니다. 다만 교육수료와 함께 이루어지는 채용 연계 시 참가한 기업에서 졸업자가 아니므로 채용하지 않을 수 있습니다. \n",
            "해당 시점 채용공고에서 각 기업 별 내용을 직접 확인해야합니다.\n",
            "\n",
            "질문: KT 에이블스쿨은 무료인가요? \n",
            "대답: KT 에이블스쿨은 'K-Digital Training 교육'으로, 과정의 비용은 국민내일배움카드로 신청하여 지원받을 수 있습니다.\n",
            "\n",
            "질문: 결제가 있나요? \n",
            "대답: KT 에이블스쿨은 'K-Digital Training 교육'으로, 과정의 비용은 국민내일배움카드로 신청하여 지원받을 수 있습니다.\n",
            "\n",
            "질문: 취업을 위해서 어떤 지원이 있나요? \n",
            "대답: KT 에이블스쿨은 미래인재육성 + 청년 IT/SW/DX 분야 일자리 창출을 위해서 KT 와 정부가 함께 하는 프로그램입니다. 에이블러 여러분들의 취업기회를 위해 Job Searching 세션, 취업컨설팅, 잡페어 등 여러 프로그램들을 운영하고 있습니다.\n",
            "KT 직접채용은 그 일환 중 하나이며, KT에 합격한 1기 수료생의 경우 해당지역에 배치되었습니다. KT 외에 KT 그룹사, 주요 협력사, AI원팀 기업, 스타트업 등의 채용은 지역 구분 없이 진행됩니다. 채용 상황에 따라 변경될 수 있어 교육 수료 후 채용 연계 시 상세 안내 드리겠습니다. KT 그룹, AI 원팀 기업/스타트업 100 등 다양한 기업에서 채용 연계할 예정으로 기업마다 인재상 및 반영 요소가 다르기 때문에 중점 요소에 대해 안내드리기 어려운 점 양해 부탁드립니다. 채용에 대한 부분은 교육을 참여하시면 추후 관련 부서를 통해 안내드릴 예정입니다.\n",
            "\n",
            "질문: 채용 연계 외에도 채용 관련 지원이 있나요? \n",
            "대답: KT 에이블스쿨은 미래인재육성 + 청년 IT/SW/DX 분야 일자리 창출을 위해서 KT 와 정부가 함께 하는 프로그램입니다. 에이블러 여러분들의 취업기회를 위해 Job Searching 세션, 취업컨설팅, 잡페어 등 여러 프로그램들을 운영하고 있습니다.\n",
            "KT 직접채용은 그 일환 중 하나이며, KT에 합격한 1기 수료생의 경우 해당지역에 배치되었습니다. KT 외에 KT 그룹사, 주요 협력사, AI원팀 기업, 스타트업 등의 채용은 지역 구분 없이 진행됩니다. 채용 상황에 따라 변경될 수 있어 교육 수료 후 채용 연계 시 상세 안내 드리겠습니다. KT 그룹, AI 원팀 기업/스타트업 100 등 다양한 기업에서 채용 연계할 예정으로 기업마다 인재상 및 반영 요소가 다르기 때문에 중점 요소에 대해 안내드리기 어려운 점 양해 부탁드립니다. 채용에 대한 부분은 교육을 참여하시면 추후 관련 부서를 통해 안내드릴 예정입니다.\n",
            "\n",
            "질문: 어떤 교육생 혜택이나 지원이 있나요? \n",
            "대답: 취업에 도움이 되는 다양한 프로젝트를 제공하고, 포트폴리오 작성을 도와드리며, 코딩챌린지, 해커톤 등 다양한 Competition 수상 기회를 제공합니다. \n",
            "또한, AIVLE Job Fair를 거쳐 우수 수료생을 대상으로 KT와 KT그룹, AI원팀, 협력사 등 채용까지 연계해 드립니다.\n",
            "\n",
            "질문: 혜택은 어떤 것들이 있나요? \n",
            "대답: 취업에 도움이 되는 다양한 프로젝트를 제공하고, 포트폴리오 작성을 도와드리며, 코딩챌린지, 해커톤 등 다양한 Competition 수상 기회를 제공합니다. \n",
            "또한, AIVLE Job Fair를 거쳐 우수 수료생을 대상으로 KT와 KT그룹, AI원팀, 협력사 등 채용까지 연계해 드립니다.\n",
            "\n",
            "질문: 숙소가 제공되는지 궁금합니다. \n",
            "대답: 숙소 및 기숙사에 대한 지원은 제공하지 않습니다.\n",
            "\n",
            "질문: 대면 교육 시 별도로 교통비나 숙박비를 지원해주나요? \n",
            "대답: 숙소 및 기숙사에 대한 지원은 제공하지 않습니다.\n",
            "\n",
            "질문: 다른 국비지원과 차이점이 있나요? \n",
            "대답: KT 에이블스쿨에서는 이론/실습 교육에 나아가 기업 실전형 프로젝트를 중심으로 실무에서 일하는 방식을 배울 수 있습니다. 또한, KT 현직 전문가가 전담하여 산업지식, AI/DX 기술, 창의성을 갖출 수 있도록 강의와 코칭을 제공하고, 강의 중 궁금한 사항은 전담 튜터가 1:2로 직접 코칭을 제공합니다. 특히, 우수 수료생을 대상으로 KT와 KT 그룹, AI원팀, 협력사 등 채용까지 연계해 드립니다.\n",
            "\n",
            "질문: 다른 국비지원과 다른게 뭔가요? \n",
            "대답: KT 에이블스쿨에서는 이론/실습 교육에 나아가 기업 실전형 프로젝트를 중심으로 실무에서 일하는 방식을 배울 수 있습니다. 또한, KT 현직 전문가가 전담하여 산업지식, AI/DX 기술, 창의성을 갖출 수 있도록 강의와 코칭을 제공하고, 강의 중 궁금한 사항은 전담 튜터가 1:8로 직접 코칭을 제공합니다. 특히, 우수 수료생을 대상으로 KT와 KT 그룹, AI원팀, 협력사 등 채용까지 연계해 드립니다.\n",
            "\n"
          ]
        }
      ],
      "source": [
        "cnt=0\n",
        "for _, intent in enumerate(test_data):\n",
        "    print(\"질문:\", intent[0], \"\\n대답:\", end=' ')\n",
        "    intent_pred = get_answer1(intent[0])\n",
        "    if int(intent[1])==intent_pred:\n",
        "        cnt+=1\n",
        "    print()"
      ]
    },
    {
      "cell_type": "code",
      "source": [
        "print(cnt/len(test_data))"
      ],
      "metadata": {
        "id": "ufl3SyWzvN53",
        "colab": {
          "base_uri": "https://localhost:8080/"
        },
        "outputId": "6645940c-5536-4b83-e95e-74c487d03b25"
      },
      "execution_count": null,
      "outputs": [
        {
          "output_type": "stream",
          "name": "stdout",
          "text": [
            "0.8018867924528302\n"
          ]
        }
      ]
    },
    {
      "cell_type": "code",
      "source": [
        "get_answer1(\"수료 직후 취업 가능?\")"
      ],
      "metadata": {
        "colab": {
          "base_uri": "https://localhost:8080/"
        },
        "id": "loglOtxSWEMK",
        "outputId": "c45c494c-79b8-4cec-b016-d5f757de560d"
      },
      "execution_count": null,
      "outputs": [
        {
          "output_type": "stream",
          "name": "stdout",
          "text": [
            "KT 에이블스쿨은 미래인재육성 + 청년 IT/SW/DX 분야 일자리 창출을 위해서 KT 와 정부가 함께 하는 프로그램입니다.  \n",
            "에이블러 여러분들의 취업기회를 위해 Job Searching 세션, 취업컨설팅, 잡페어 등 여러 프로그램들을 운영하고 있습니다.\n",
            "\n",
            "KT 직접채용은 그 일환 중 하나이며, KT에 합격한 1기 수료생의 경우 해당지역에 배치되었습니다.  \n",
            "KT 외에 KT 그룹사, 주요 협력사, AI원팀 기업, 스타트업 등의 채용은 지역 구분 없이 진행됩니다. \n",
            "채용 상황에 따라 변경될 수 있어 교육 수료 후 채용 연계 시 상세 안내 드리겠습니다. \n",
            "\n",
            "KT 그룹, AI 원팀 기업/스타트업 100 등 다양한 기업에서 채용 연계할 예정으로 기업마다 인재상 및 반영 요소가 다르기 때문에 중점 요소에 대해 안내드리기 어려운 점 양해 부탁드립니다. 채용에 대한 부분은 교육을 참여하시면 추후 관련 부서를 통해 안내드릴 예정입니다.\n"
          ]
        }
      ]
    },
    {
      "cell_type": "code",
      "source": [
        "get_answer1(\"취업하고 싶어요\")"
      ],
      "metadata": {
        "colab": {
          "base_uri": "https://localhost:8080/"
        },
        "id": "AQ9dLBexWQU0",
        "outputId": "205d625b-a719-4aa2-bb1f-79ef074374e7"
      },
      "execution_count": null,
      "outputs": [
        {
          "output_type": "stream",
          "name": "stdout",
          "text": [
            "저도요.\n"
          ]
        }
      ]
    },
    {
      "cell_type": "code",
      "source": [
        "get_answer1(\"이거 하고 취업 못하면 책임 져요?\")"
      ],
      "metadata": {
        "colab": {
          "base_uri": "https://localhost:8080/"
        },
        "id": "vJw-3oQxWbhK",
        "outputId": "34993a65-a685-4320-9354-24a22e95c30d"
      },
      "execution_count": null,
      "outputs": [
        {
          "output_type": "stream",
          "name": "stdout",
          "text": [
            "KT 에이블스쿨은 미취업자를 대상으로 하며, 교육 시작일 기준 재직자는 지원이 불가능합니다.\n",
            "미취업자의 기준은 아래와 같습니다.\n",
            "1) 기간의 정함이 있는 근로인 경우\n",
            "2) 고용보험에 미가입한 경우\n",
            "3) 고용보험에 가입되어 있더라도 15시간/주 미만 근로인 경우\n",
            "단, 어떠한 경우에도 교육을 풀타임(09:00~18:00)으로 들을 수 있어야 교육 참여가 가능합니다. \n",
            "\n",
            "프리랜서 계약의 경우, 고용보험에 가입하지 않은 경우 미취업자로 보지만, 개인별 상황이 다를 수 있어서 관할 고용센터에 문의하여 확인하시기 바랍니다. \n",
            "또한 현재 군 복무 중인 상태여도 지원 가능하며, 교육 시작 전일까지 병역 의무를 마쳐야 교육 수강이 가능합니다. \n",
            "\n",
            "퇴사 후 고용보험 상실이 완료되어 실업급여를 수급 중인 경우, 훈련 수강에는 문제가 없습니다.\n",
            "다만, 실업급여와 훈련장려금은 중복 수급이 불가하여 실업급여 지급이 종료된 후 훈련장려금 지급이 개시됩니다.\n"
          ]
        }
      ]
    }
  ]
}